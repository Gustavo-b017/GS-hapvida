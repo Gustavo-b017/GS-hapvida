{
 "cells": [
  {
   "cell_type": "code",
   "execution_count": 1,
   "metadata": {},
   "outputs": [
    {
     "name": "stdout",
     "output_type": "stream",
     "text": [
      "acesso concedido\n",
      "Combinacao correta para: nome: Pedro Santos, Senha: qwerty, CPF: 456.789.123-00\n"
     ]
    }
   ],
   "source": [
    "nomes_corretos=[\"Joao Silva\", \"Maria Oliveira\", \"Pedro Santos\", \"Ana Souza\", \"Carlos Pereira\"]\n",
    "cpfs_corretos=[\"123.456.789-00\", \"987.654.321-00\", \"456.789.123-00\", \"321.654.987-00\", \"789.123.456-00\"]\n",
    "senhas_corretas=[\"senha123\", \"abc456\", \"qwerty\", \"admin123\", \"letmein\"]\n",
    "\n",
    "cpf = input('qual é seu cpf? obs: a cpf deve conter o \"-\" antes dos dois ultimos digitos e os pontos dividindo a cada 3 numeros')\n",
    "\n",
    "if cpf in cpfs_corretos:\n",
    "    print(\"acesso concedido\")\n",
    "else:\n",
    "    print(\"acesso negado\")\n",
    "\n",
    "combinacoes = zip(nomes_corretos, senhas_corretas, cpfs_corretos)\n",
    "\n",
    "for nome, senha, cpfs_corretos in combinacoes:\n",
    "    if senha == senhas_corretas or nome == nomes_corretos or cpf == cpfs_corretos:\n",
    "        print(f\"Combinacao correta para: nome: {nome}, Senha: {senha}, CPF: {cpf}\")\n",
    "        \n",
    "\n"
   ]
  }
 ],
 "metadata": {
  "kernelspec": {
   "display_name": "Python 3",
   "language": "python",
   "name": "python3"
  },
  "language_info": {
   "codemirror_mode": {
    "name": "ipython",
    "version": 3
   },
   "file_extension": ".py",
   "mimetype": "text/x-python",
   "name": "python",
   "nbconvert_exporter": "python",
   "pygments_lexer": "ipython3",
   "version": "3.11.6"
  }
 },
 "nbformat": 4,
 "nbformat_minor": 2
}
