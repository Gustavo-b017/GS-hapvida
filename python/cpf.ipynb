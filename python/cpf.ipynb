{
 "cells": [
  {
   "cell_type": "code",
   "execution_count": 10,
   "metadata": {},
   "outputs": [
    {
     "name": "stdout",
     "output_type": "stream",
     "text": [
      "Requirement already satisfied: pandas in c:\\python311\\lib\\site-packages (2.1.3)\n",
      "Requirement already satisfied: numpy<2,>=1.23.2 in c:\\python311\\lib\\site-packages (from pandas) (1.26.2)\n",
      "Requirement already satisfied: python-dateutil>=2.8.2 in c:\\python311\\lib\\site-packages (from pandas) (2.8.2)\n",
      "Requirement already satisfied: pytz>=2020.1 in c:\\python311\\lib\\site-packages (from pandas) (2023.3.post1)\n",
      "Requirement already satisfied: tzdata>=2022.1 in c:\\python311\\lib\\site-packages (from pandas) (2023.3)\n",
      "Requirement already satisfied: six>=1.5 in c:\\python311\\lib\\site-packages (from python-dateutil>=2.8.2->pandas) (1.16.0)\n",
      "Note: you may need to restart the kernel to use updated packages.\n"
     ]
    },
    {
     "name": "stderr",
     "output_type": "stream",
     "text": [
      "\n",
      "[notice] A new release of pip is available: 23.1.2 -> 23.3.1\n",
      "[notice] To update, run: python.exe -m pip install --upgrade pip\n"
     ]
    }
   ],
   "source": [
    "pip install pandas\n"
   ]
  },
  {
   "cell_type": "code",
   "execution_count": null,
   "metadata": {},
   "outputs": [],
   "source": [
    "nomes_corretos=[\"Joao Silva\", \"Maria Oliveira\", \"Pedro Santos\", \"Ana Souza\", \"Carlos Pereira\"]\n",
    "cpfs_corretos=[\"123.456.789-00\", \"987.654.321-00\", \"456.789.123-00\", \"321.654.987-00\", \"789.123.456-00\"]\n",
    "senhas_corretas=[\"senha123\", \"abc456\", \"qwerty\", \"admin123\", \"letmein\"]\n",
    "\n",
    "cpf = input('qual é seu cpf? obs: a cpf deve conter o \"-\" antes dos dois ultimos digitos e os pontos dividindo a cada 3 numeros')\n",
    "\n",
    "if cpf in cpfs_corretos:\n",
    "    print(\"acesso concedido\")\n",
    "else:\n",
    "    print(\"acesso negado\")\n",
    "\n",
    "combinacoes = zip(nomes_corretos, senhas_corretas, cpfs_corretos)\n",
    "\n",
    "for nome, senha, cpfs_corretos in combinacoes:\n",
    "    if senha == senhas_corretas or nome == nomes_corretos or cpf == cpfs_corretos:\n",
    "        print(f\"Combinacao correta para: nome: {nome}, Senha: {senha}, CPF: {cpf}\")\n",
    "        \n",
    "\n"
   ]
  },
  {
   "cell_type": "code",
   "execution_count": null,
   "metadata": {},
   "outputs": [],
   "source": [
    "nomes_corretos=[\"Joao Silva\", \"Maria Oliveira\", \"Pedro Santos\", \"Ana Souza\", \"Carlos Pereira\"]\n",
    "cpfs_corretos=[\"123.456.789-00\", \"987.654.321-00\", \"456.789.123-00\", \"321.654.987-00\", \"789.123.456-00\"]\n",
    "senhas_corretas=[\"senha123\", \"abc456\", \"qwerty\", \"admin123\", \"letmein\"]\n",
    "\n",
    "cpf = input('qual é seu cpf? obs: a cpf deve conter o \"-\" antes dos dois ultimos digitos e os pontos dividindo a cada 3 numeros')\n",
    "senha = input(\"qual e a senha?\")\n",
    "\n",
    "\n",
    "if cpf in cpfs_corretos:\n",
    "    print(\"acesso concedido\")\n",
    "else:\n",
    "    print(\"acesso negado\")\n",
    "\n",
    "combinacoes = zip(nomes_corretos, senhas_corretas, cpfs_corretos)\n",
    "\n",
    "for nome, senha, cpfs_corretos in combinacoes:\n",
    "    if senha == senhas_corretas and cpf == cpfs_corretos or nome == nomes_corretos :\n",
    "        print(f\"Combinacao correta para: nome: {nome}, Senha: {senha}, CPF: {cpf}\")\n",
    "        \n",
    "\n"
   ]
  },
  {
   "cell_type": "code",
   "execution_count": 16,
   "metadata": {},
   "outputs": [],
   "source": [
    "cadastro = {\"Nome do paciente\": [\"Gustavo\",],\n",
    "            \"Idade\": [17,],\n",
    "            \"Telefone\": [1273956108],\n",
    "            \"CPF\": ['123.123.123-00'],\n",
    "            }"
   ]
  },
  {
   "cell_type": "code",
   "execution_count": 20,
   "metadata": {},
   "outputs": [
    {
     "ename": "TypeError",
     "evalue": "string indices must be integers, not 'str'",
     "output_type": "error",
     "traceback": [
      "\u001b[1;31m---------------------------------------------------------------------------\u001b[0m",
      "\u001b[1;31mTypeError\u001b[0m                                 Traceback (most recent call last)",
      "Cell \u001b[1;32mIn[20], line 45\u001b[0m\n\u001b[0;32m     41\u001b[0m         \u001b[39melse\u001b[39;00m:\n\u001b[0;32m     42\u001b[0m             \u001b[39mpass\u001b[39;00m   \n\u001b[1;32m---> 45\u001b[0m cadastrar_paciente()\n\u001b[0;32m     47\u001b[0m df \u001b[39m=\u001b[39m pd\u001b[39m.\u001b[39mDataFrame(cadastro)\n\u001b[0;32m     49\u001b[0m df\n",
      "Cell \u001b[1;32mIn[20], line 11\u001b[0m, in \u001b[0;36mcadastrar_paciente\u001b[1;34m()\u001b[0m\n\u001b[0;32m      8\u001b[0m \u001b[39mif\u001b[39;00m cadastro \u001b[39m==\u001b[39m \u001b[39m\"\u001b[39m\u001b[39mSIM\u001b[39m\u001b[39m\"\u001b[39m:\n\u001b[0;32m     10\u001b[0m     cpf1 \u001b[39m=\u001b[39m (\u001b[39minput\u001b[39m(\u001b[39m\"\u001b[39m\u001b[39mqual é o seu cpf?\u001b[39m\u001b[39m\"\u001b[39m))\n\u001b[1;32m---> 11\u001b[0m     \u001b[39mif\u001b[39;00m cpf1 \u001b[39m==\u001b[39m cadastro[\u001b[39m'\u001b[39;49m\u001b[39mCPF\u001b[39;49m\u001b[39m'\u001b[39;49m]:\n\u001b[0;32m     12\u001b[0m         \u001b[39mprint\u001b[39m(\u001b[39mf\u001b[39m\u001b[39m\"\u001b[39m\u001b[39mo Paciente \u001b[39m\u001b[39m{\u001b[39;00mcadastro[\u001b[39m'\u001b[39m\u001b[39mNome do paciente\u001b[39m\u001b[39m'\u001b[39m]\u001b[39m}\u001b[39;00m\u001b[39m possui a, Idade: \u001b[39m\u001b[39m{\u001b[39;00mcadastro[\u001b[39m'\u001b[39m\u001b[39mIdade\u001b[39m\u001b[39m'\u001b[39m]\u001b[39m}\u001b[39;00m\u001b[39m, portador do CPF: \u001b[39m\u001b[39m{\u001b[39;00mcpf\u001b[39m}\u001b[39;00m\u001b[39m\"\u001b[39m)\n\u001b[0;32m     13\u001b[0m     \u001b[39melse\u001b[39;00m:\n",
      "\u001b[1;31mTypeError\u001b[0m: string indices must be integers, not 'str'"
     ]
    }
   ],
   "source": [
    "import pandas as pd\n",
    "\n",
    "def cadastrar_paciente():\n",
    "    while True:\n",
    "\n",
    "        cadastro = input(\"vc tem cadastro?\").upper()\n",
    "\n",
    "        if cadastro == \"SIM\":\n",
    "            \n",
    "            cpf = (input(\"qual é o seu cpf?\"))\n",
    "            \n",
    "            if cpf == cadastro['CPF']:\n",
    "                print(f\"o Paciente {cadastro['Nome do paciente']} possui a, Idade: {cadastro['Idade']}, portador do CPF: {cpf}\")\n",
    "            else:\n",
    "                print(\"mentira\")\n",
    "                break\n",
    "\n",
    "        else:\n",
    "\n",
    "            cpf = (input(\"qual é o seu cpf?\"))\n",
    "            nome = str(input(\"Digite o nome do paciente: \"))\n",
    "            idade = int(input(\"Digite a idade do paciente: \"))\n",
    "            telefone = int(input(\"Digite o telefone do paciente: \"))\n",
    "\n",
    "\n",
    "            if cpf not in cadastro[\"CPF\"]:\n",
    "                cadastro[\"CPF\"].append(cpf)\n",
    "                cadastro[\"Nome do paciente\"].append(nome)\n",
    "                cadastro[\"Idade\"].append(idade)\n",
    "                cadastro[\"Telefone\"].append(telefone)\n",
    "\n",
    "            elif cpf == cadastro['CPF']:\n",
    "                print(f\"Combinacao correta para: nome: {nome}, Senha: {senha}, CPF: {cpf}\")\n",
    "\n",
    "            else:\n",
    "                print(\"voce ja esta cadastrado!\")\n",
    "\n",
    "        deseja_continuar = str(input(\"Digite PARAR caso deseje parar.\")).upper()\n",
    "        \n",
    "        if deseja_continuar == \"PARAR\":\n",
    "            break\n",
    "        else:\n",
    "            pass   \n",
    "    \n",
    "\n",
    "cadastrar_paciente()\n",
    "\n",
    "df = pd.DataFrame(cadastro)\n",
    "\n",
    "df"
   ]
  }
 ],
 "metadata": {
  "kernelspec": {
   "display_name": "Python 3",
   "language": "python",
   "name": "python3"
  },
  "language_info": {
   "codemirror_mode": {
    "name": "ipython",
    "version": 3
   },
   "file_extension": ".py",
   "mimetype": "text/x-python",
   "name": "python",
   "nbconvert_exporter": "python",
   "pygments_lexer": "ipython3",
   "version": "3.11.4"
  }
 },
 "nbformat": 4,
 "nbformat_minor": 2
}
