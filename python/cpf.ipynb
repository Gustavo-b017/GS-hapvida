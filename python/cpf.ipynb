{
 "cells": [
  {
   "cell_type": "code",
   "execution_count": 1,
   "metadata": {},
   "outputs": [
    {
     "name": "stdout",
     "output_type": "stream",
     "text": [
      "Requirement already satisfied: pandas in c:\\users\\gustavo\\appdata\\local\\packages\\pythonsoftwarefoundation.python.3.11_qbz5n2kfra8p0\\localcache\\local-packages\\python311\\site-packages (2.1.2)\n",
      "Requirement already satisfied: numpy<2,>=1.23.2 in c:\\users\\gustavo\\appdata\\local\\packages\\pythonsoftwarefoundation.python.3.11_qbz5n2kfra8p0\\localcache\\local-packages\\python311\\site-packages (from pandas) (1.26.1)\n",
      "Requirement already satisfied: python-dateutil>=2.8.2 in c:\\users\\gustavo\\appdata\\local\\packages\\pythonsoftwarefoundation.python.3.11_qbz5n2kfra8p0\\localcache\\local-packages\\python311\\site-packages (from pandas) (2.8.2)\n",
      "Requirement already satisfied: pytz>=2020.1 in c:\\users\\gustavo\\appdata\\local\\packages\\pythonsoftwarefoundation.python.3.11_qbz5n2kfra8p0\\localcache\\local-packages\\python311\\site-packages (from pandas) (2023.3.post1)\n",
      "Requirement already satisfied: tzdata>=2022.1 in c:\\users\\gustavo\\appdata\\local\\packages\\pythonsoftwarefoundation.python.3.11_qbz5n2kfra8p0\\localcache\\local-packages\\python311\\site-packages (from pandas) (2023.3)\n",
      "Requirement already satisfied: six>=1.5 in c:\\users\\gustavo\\appdata\\local\\packages\\pythonsoftwarefoundation.python.3.11_qbz5n2kfra8p0\\localcache\\local-packages\\python311\\site-packages (from python-dateutil>=2.8.2->pandas) (1.16.0)\n",
      "Note: you may need to restart the kernel to use updated packages.\n"
     ]
    },
    {
     "name": "stderr",
     "output_type": "stream",
     "text": [
      "\n",
      "[notice] A new release of pip is available: 23.2.1 -> 23.3.1\n",
      "[notice] To update, run: C:\\Users\\Gustavo\\AppData\\Local\\Microsoft\\WindowsApps\\PythonSoftwareFoundation.Python.3.11_qbz5n2kfra8p0\\python.exe -m pip install --upgrade pip\n"
     ]
    }
   ],
   "source": [
    "pip install pandas\n"
   ]
  },
  {
   "cell_type": "code",
   "execution_count": null,
   "metadata": {},
   "outputs": [],
   "source": [
    "nomes_corretos=[\"Joao Silva\", \"Maria Oliveira\", \"Pedro Santos\", \"Ana Souza\", \"Carlos Pereira\"]\n",
    "cpfs_corretos=[\"123.456.789-00\", \"987.654.321-00\", \"456.789.123-00\", \"321.654.987-00\", \"789.123.456-00\"]\n",
    "senhas_corretas=[\"senha123\", \"abc456\", \"qwerty\", \"admin123\", \"letmein\"]\n",
    "\n",
    "cpf = input('qual é seu cpf? obs: a cpf deve conter o \"-\" antes dos dois ultimos digitos e os pontos dividindo a cada 3 numeros')\n",
    "\n",
    "if cpf in cpfs_corretos:\n",
    "    print(\"acesso concedido\")\n",
    "else:\n",
    "    print(\"acesso negado\")\n",
    "\n",
    "combinacoes = zip(nomes_corretos, senhas_corretas, cpfs_corretos)\n",
    "\n",
    "for nome, senha, cpfs_corretos in combinacoes:\n",
    "    if senha == senhas_corretas or nome == nomes_corretos or cpf == cpfs_corretos:\n",
    "        print(f\"Combinacao correta para: nome: {nome}, Senha: {senha}, CPF: {cpf}\")\n",
    "        \n",
    "\n"
   ]
  },
  {
   "cell_type": "code",
   "execution_count": 3,
   "metadata": {},
   "outputs": [],
   "source": [
    "cadastro = {\"Nome do paciente\": [\"Gustavo\",],\n",
    "            \"Idade\": [17,],\n",
    "            \"Telefone\": [1273956108],\n",
    "            \"CPF\": [165353356,],\n",
    "            }\n",
    "\n",
    "cadastrado = {\"Nome do paciente\": [],\n",
    "            \"Idade\": [],\n",
    "            \"CPF\": [],\n",
    "            \"Telefone\": [],\n",
    "            }"
   ]
  },
  {
   "cell_type": "markdown",
   "metadata": {},
   "source": [
    "modificado -- duas funcoes"
   ]
  },
  {
   "cell_type": "code",
   "execution_count": 4,
   "metadata": {},
   "outputs": [
    {
     "name": "stdout",
     "output_type": "stream",
     "text": [
      "  Nome do paciente  Idade        CPF    Telefone\n",
      "0          Gustavo     17  165353356  1273956108\n"
     ]
    }
   ],
   "source": [
    "import pandas as pd\n",
    "\n",
    "def cadastrando():\n",
    "    while True:\n",
    "\n",
    "        # perguntas ao usuario\n",
    "        cpf = (input(\"qual é o seu cpf?\"))\n",
    "        nome = str(input(\"Digite o nome do paciente: \"))\n",
    "        idade = int(input(\"Digite a idade do paciente: \"))\n",
    "        telefone = int(input(\"Digite o telefone do paciente: \"))\n",
    "\n",
    "        #  caso nao exista o cpf na no banco de dados do cpf, ira rodar o codigo\n",
    "        if cpf not in cadastro[\"CPF\"]:\n",
    "            # ira adiciona as colunas os dados que o usuario forneceu\n",
    "            cadastro[\"CPF\"].append(cpf)\n",
    "            cadastro[\"Nome do paciente\"].append(nome)\n",
    "            cadastro[\"Idade\"].append(idade)\n",
    "            cadastro[\"Telefone\"].append(telefone)\n",
    "\n",
    "        # se existir o cpf nos dados, ira aparecer que ele ja se cadastrou\n",
    "        else:\n",
    "            print(\"voce ja esta cadastrado!\")\n",
    "\n",
    "        # pergunta ao usuario se ele deseja continuar, e tranforma a resposta dele em letra maiuscula\n",
    "        deseja_continuar = str(input(\"Digite PARAR caso deseje parar.\")).upper()\n",
    "        \n",
    "        # se digitar 'parar' o codico ira parar\n",
    "        if deseja_continuar == \"PARAR\":\n",
    "            break\n",
    "        # se digitar qualquer outra coisa, ou se digitar nada, o codigo ira continuar\n",
    "        else:\n",
    "            pass   \n",
    "    # retorna o valor do dicionario cadastro em uma tabela\n",
    "    return pd.DataFrame(cadastro)\n",
    "    \n",
    "def login ():\n",
    "        \n",
    "    # informa qual e o cpf cadastrado\n",
    "    cpf = int(input(\"qual é o seu cpf?\"))\n",
    "            \n",
    "    # se existir o cpf no banco de dados ira rodar esse codigo\n",
    "    if cpf in cadastro['CPF']:\n",
    "                \n",
    "        # cria uma variavel, e atribui a ela o valor da tabela do cpf \n",
    "        #  index -- pega a posicao exata no dicionario junto com outros dados que estao na mesma linha\n",
    "        i = cadastro['CPF'].index(cpf)\n",
    "                \n",
    "        # adiciona os dados do paciente ja cadastrado em uma nova tabela \n",
    "        cadastrado['Nome do paciente'].append(cadastro['Nome do paciente'][i])\n",
    "        cadastrado['Idade'].append(cadastro['Idade'][i])\n",
    "        cadastrado['CPF'].append(cadastro['CPF'][i])\n",
    "        cadastrado['Telefone'].append(cadastro['Telefone'][i])\n",
    "\n",
    "    # se nao existir o cpf do banco de dados, ira rodar esse codigo\n",
    "    else:\n",
    "        # caso nao exista o cpf cadastrado ira aparecer uma mensagem\n",
    "        print(\"mentira\")\n",
    "        \n",
    "    # retorna o valor do dicionario cadastro em uma tabela\n",
    "    return pd.DataFrame(cadastrado)\n",
    "\n",
    "# cria uma variavel cuja o valor deve ser numerico\n",
    "escolha = int(input(\"vc ja tem login? 1 - sim // 2 - nao\"))\n",
    "\n",
    "# se o valor for 1 ira iniciar a funcao login e exibir os resultados no final\n",
    "if escolha == 1:\n",
    "    print(login())\n",
    "# se o valor for 2 ira iniciar a funcao cadastrando e exibir os resultados no final\n",
    "elif escolha == 2:\n",
    "    print(cadastrando())\n",
    "# se o valor for diferente de 1 ou 2 ira dar erro\n",
    "else:\n",
    "    print(\"numero invalido\")"
   ]
  }
 ],
 "metadata": {
  "kernelspec": {
   "display_name": "Python 3",
   "language": "python",
   "name": "python3"
  },
  "language_info": {
   "codemirror_mode": {
    "name": "ipython",
    "version": 3
   },
   "file_extension": ".py",
   "mimetype": "text/x-python",
   "name": "python",
   "nbconvert_exporter": "python",
   "pygments_lexer": "ipython3",
   "version": "3.11.6"
  }
 },
 "nbformat": 4,
 "nbformat_minor": 2
}
